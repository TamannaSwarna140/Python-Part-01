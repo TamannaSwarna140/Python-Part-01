{
  "cells": [
    {
      "cell_type": "markdown",
      "metadata": {
        "id": "view-in-github",
        "colab_type": "text"
      },
      "source": [
        "<a href=\"https://colab.research.google.com/github/TamannaSwarna140/Python-Part-01/blob/main/Assignment_(Basic_Python).ipynb\" target=\"_parent\"><img src=\"https://colab.research.google.com/assets/colab-badge.svg\" alt=\"Open In Colab\"/></a>"
      ]
    },
    {
      "cell_type": "markdown",
      "id": "9818ffc8",
      "metadata": {
        "id": "9818ffc8"
      },
      "source": [
        "# Python Practice Problems"
      ]
    },
    {
      "cell_type": "markdown",
      "id": "92c96f2f",
      "metadata": {
        "id": "92c96f2f"
      },
      "source": [
        "### 1. Find the Largest of Two Numbers\n",
        "**Task:** Given two numbers, find the larger one.  \n",
        "**Demo Input:**  5 and 6 <br>\n",
        "**Output:** 6\n"
      ]
    },
    {
      "cell_type": "code",
      "execution_count": null,
      "id": "15c848cf",
      "metadata": {
        "colab": {
          "base_uri": "https://localhost:8080/"
        },
        "id": "15c848cf",
        "outputId": "4798a707-7e97-463f-ceb4-a9985117e96e"
      },
      "outputs": [
        {
          "output_type": "stream",
          "name": "stdout",
          "text": [
            "Enter 1st Number: 5\n",
            "Enter 2nd Number: 6\n",
            "The Larger One is  6\n"
          ]
        }
      ],
      "source": [
        "a = input(\"Enter 1st Number: \")\n",
        "b = input(\"Enter 2nd Number: \")\n",
        "\n",
        "if a>b:\n",
        "  print(\"The Larger One is \",a)\n",
        "else:\n",
        "  print(\"The Larger One is \",b)"
      ]
    },
    {
      "cell_type": "markdown",
      "id": "c8c1c683",
      "metadata": {
        "id": "c8c1c683"
      },
      "source": [
        "### 2. Print Numbers from 1 to N\n",
        "**Task**: Given a number `n`, print all numbers from 1 to `n`. <br>\n",
        "**Demo Input**: `5`  <br>\n",
        "**Demo Output**:  1 2 3 4 5\n"
      ]
    },
    {
      "cell_type": "code",
      "execution_count": null,
      "id": "4f9f4529",
      "metadata": {
        "colab": {
          "base_uri": "https://localhost:8080/"
        },
        "id": "4f9f4529",
        "outputId": "f449176d-bdb8-4798-ca28-d2a3b25d6a87"
      },
      "outputs": [
        {
          "output_type": "stream",
          "name": "stdout",
          "text": [
            "Enter a Number: 5\n",
            "1 2 3 4 5 "
          ]
        }
      ],
      "source": [
        "n = int(input(\"Enter a Number: \"))\n",
        "\n",
        "for i in range(1, n+1):\n",
        "  print(i , end=\" \")"
      ]
    },
    {
      "cell_type": "markdown",
      "id": "899df468",
      "metadata": {
        "id": "899df468"
      },
      "source": [
        "### 3. Check if a Number is Positive or Negative\n",
        "**Task**: Determine if the input number is positive, negative, or zero.  \n",
        "**Demo Input**: `-3`  \n",
        "**Demo Output**: `The number is Negative`"
      ]
    },
    {
      "cell_type": "code",
      "execution_count": null,
      "id": "56ae285e",
      "metadata": {
        "colab": {
          "base_uri": "https://localhost:8080/"
        },
        "id": "56ae285e",
        "outputId": "e0661952-a4a1-4167-d7e8-a3116c46dc91"
      },
      "outputs": [
        {
          "output_type": "stream",
          "name": "stdout",
          "text": [
            "Enter a number: -3\n",
            "The Number is Negative\n"
          ]
        }
      ],
      "source": [
        "num = int(input(\"Enter a number: \"))\n",
        "\n",
        "if num>0:\n",
        "  print(\"The Number is Positive\")\n",
        "elif num<0:\n",
        "  print(\"The Number is Negative\")\n",
        "else:\n",
        "  print(\"The Number is Zero\")"
      ]
    },
    {
      "cell_type": "markdown",
      "id": "9d865d12",
      "metadata": {
        "id": "9d865d12"
      },
      "source": [
        "### 4. Calculate the Sum of Digits\n",
        "**Task**: Given a number, find the sum of its digits.  \n",
        "**Demo Input**: `123`  \n",
        "**Demo Output**: `6`  \n",
        "(Explanation: `1+2+3=6`)"
      ]
    },
    {
      "cell_type": "code",
      "execution_count": null,
      "id": "c28b2c6c",
      "metadata": {
        "id": "c28b2c6c",
        "colab": {
          "base_uri": "https://localhost:8080/"
        },
        "outputId": "7b206beb-ec59-4008-b5b4-3de59fd64b4a"
      },
      "outputs": [
        {
          "output_type": "stream",
          "name": "stdout",
          "text": [
            "Enter a Number: 6\n",
            "The Sum of It's Digits is:  6\n"
          ]
        }
      ],
      "source": [
        "n = input(\"Enter a Number: \")\n",
        "\n",
        "sum = 0\n",
        "for i in n:\n",
        "  sum += int(i)\n",
        "\n",
        "print(\"The Sum of It's Digits is: \",sum)"
      ]
    },
    {
      "cell_type": "markdown",
      "id": "a970046f",
      "metadata": {
        "id": "a970046f"
      },
      "source": [
        "### 5. Find Factorial of a Number\n",
        "**Task**: Calculate the factorial of a given number.  \n",
        "**Demo Input**: `4`  \n",
        "**Demo Output**: `24`  \n",
        "(Explanation: `4! = 4*3*2*1 = 24`)"
      ]
    },
    {
      "cell_type": "code",
      "execution_count": null,
      "id": "fd5966d2",
      "metadata": {
        "colab": {
          "base_uri": "https://localhost:8080/"
        },
        "id": "fd5966d2",
        "outputId": "5d4ff115-5c16-400d-ff25-457cce9b8616"
      },
      "outputs": [
        {
          "output_type": "stream",
          "name": "stdout",
          "text": [
            "Enter a Number: 4\n",
            "Factorial= 24\n"
          ]
        }
      ],
      "source": [
        "num = int(input(\"Enter a Number: \"))\n",
        "factorial = 1\n",
        "for i in range(1,num+1):\n",
        "  factorial = factorial*i\n",
        "\n",
        "print(\"Factorial=\",factorial)\n"
      ]
    },
    {
      "cell_type": "markdown",
      "id": "c8798099",
      "metadata": {
        "id": "c8798099"
      },
      "source": [
        "### 6. Count Occurrences of a Digit\n",
        "**Task**: Count how many times a specific digit appears max in a number.  \n",
        "**Demo Input**:  1233321 <br>\n",
        "**Demo Output**: `3`  <br>\n",
        "(Explanation: `3` appears 3 times in `1233321`)"
      ]
    },
    {
      "cell_type": "code",
      "execution_count": null,
      "id": "5772f0e6",
      "metadata": {
        "id": "5772f0e6",
        "colab": {
          "base_uri": "https://localhost:8080/"
        },
        "outputId": "2d6da17c-bc9c-4193-8f7d-42656dd2163b"
      },
      "outputs": [
        {
          "output_type": "stream",
          "name": "stdout",
          "text": [
            "Enter a Number: 1233321\n",
            "3 appears 3 times.\n"
          ]
        }
      ],
      "source": [
        "n = input(\"Enter a Number: \")\n",
        "\n",
        "a = [0,0,0,0,0,0,0,0,0]\n",
        "\n",
        "for i in n:\n",
        "  a[int(i)] += 1\n",
        "\n",
        "for i in a:\n",
        "  if a[i]>a[i+1]:\n",
        "    flag = a[i]\n",
        "    num = i;\n",
        "\n",
        "print(num,\"appears\",flag,\"times.\")"
      ]
    },
    {
      "cell_type": "markdown",
      "id": "b7f985bc",
      "metadata": {
        "id": "b7f985bc"
      },
      "source": [
        "### 7. Find the GCD of Two Numbers\n",
        "**Task**: Find the greatest common divisor (GCD) of two numbers.  \n",
        "**Demo Input**: 8 and 12 <br>\n",
        "**Demo Output**: `4`"
      ]
    },
    {
      "cell_type": "code",
      "execution_count": null,
      "id": "a467887d",
      "metadata": {
        "id": "a467887d",
        "colab": {
          "base_uri": "https://localhost:8080/"
        },
        "outputId": "a095d344-949f-46db-a7b9-a7da9fc8624c"
      },
      "outputs": [
        {
          "output_type": "stream",
          "name": "stdout",
          "text": [
            "Enter 1st Number: 8\n",
            "Enter 2nd Number: 12\n",
            "GCD is :  4\n"
          ]
        }
      ],
      "source": [
        "n = int(input(\"Enter 1st Number: \"))\n",
        "m = int(input(\"Enter 2nd Number: \"))\n",
        "\n",
        "gcd = 0\n",
        "\n",
        "for i in range(1, min(m,n)+1):\n",
        "  if n % i == 0 and m % i == 0:\n",
        "            gcd = i\n",
        "\n",
        "print(\"GCD is : \",gcd)"
      ]
    },
    {
      "cell_type": "markdown",
      "id": "14c6a2fd",
      "metadata": {
        "id": "14c6a2fd"
      },
      "source": [
        "### 8. Reverse a String\n",
        "**Task**: Reverse the given string.  \n",
        "**Demo Input**: `\"aiquest\"`  \n",
        "**Demo Output**: `\"tseuqia\"`"
      ]
    },
    {
      "cell_type": "code",
      "execution_count": null,
      "id": "bd22e158",
      "metadata": {
        "id": "bd22e158",
        "colab": {
          "base_uri": "https://localhost:8080/"
        },
        "outputId": "2810a192-bad7-45cc-cdd2-f0466a877bcd"
      },
      "outputs": [
        {
          "output_type": "stream",
          "name": "stdout",
          "text": [
            "Enter a String: aiquest\n",
            "tseuqia\n"
          ]
        }
      ],
      "source": [
        "str = input(\"Enter a String: \")\n",
        "\n",
        "print(str[::-1])"
      ]
    },
    {
      "cell_type": "code",
      "source": [
        "str = input(\"Enter a String: \")\n",
        "\n",
        "n = len(str)\n",
        "for i in range(n-1,-1,-1):\n",
        "  print(str[i],end=\"\")"
      ],
      "metadata": {
        "colab": {
          "base_uri": "https://localhost:8080/"
        },
        "id": "cwuFCrVduyWc",
        "outputId": "1b779b58-8ce4-4795-be2d-454a3acedd21"
      },
      "id": "cwuFCrVduyWc",
      "execution_count": null,
      "outputs": [
        {
          "output_type": "stream",
          "name": "stdout",
          "text": [
            "Enter a String: aiquest\n",
            "tseuqia"
          ]
        }
      ]
    },
    {
      "cell_type": "markdown",
      "id": "88317dfd",
      "metadata": {
        "id": "88317dfd"
      },
      "source": [
        "### 9. Check Armstrong Number\n",
        "**Task**: Check if a number is an Armstrong number (the sum of its digits raised to the power of the number of digits equals the number).  \n",
        "**Demo Input**: `153`  \n",
        "**Demo Output**: `153 is an Armstrong Number`  \n",
        "(Explanation: \\(1^3 + 5^3 + 3^3 = 153\\))"
      ]
    },
    {
      "cell_type": "code",
      "execution_count": null,
      "id": "2602ff94",
      "metadata": {
        "id": "2602ff94",
        "colab": {
          "base_uri": "https://localhost:8080/"
        },
        "outputId": "6232efd2-2456-450f-b18c-767d9d08e91b"
      },
      "outputs": [
        {
          "output_type": "stream",
          "name": "stdout",
          "text": [
            "Enter a Number: 153\n",
            "153  is a Armstrong Number.\n"
          ]
        }
      ],
      "source": [
        "n = input(\"Enter a Number: \")\n",
        "\n",
        "len = len(n)\n",
        "sum = 0\n",
        "for i in n:\n",
        "  sum += int(i)**len\n",
        "\n",
        "if int(n) == sum:\n",
        "  print(n, \" is a Armstrong Number.\")\n"
      ]
    },
    {
      "cell_type": "markdown",
      "id": "0905a3cc",
      "metadata": {
        "id": "0905a3cc"
      },
      "source": [
        "### 10. Generate a Pattern\n",
        "**Task**: Print a pyramid pattern with `n` rows.  \n",
        "**Demo input:** 4 <br>\n",
        "**Output:** You will see the pyramid pattern with 4 rows"
      ]
    },
    {
      "cell_type": "code",
      "source": [
        "n = int(input(\"Enter the Row Number: \"))\n",
        "\n",
        "for i in range(1,n+1):\n",
        "  for j in range(i):\n",
        "    print(\"*\",end=\" \")\n",
        "\n",
        "  print(\" \")"
      ],
      "metadata": {
        "colab": {
          "base_uri": "https://localhost:8080/"
        },
        "id": "KynVIczejf7Z",
        "outputId": "0c639489-79f8-4085-9642-539a6247966f"
      },
      "id": "KynVIczejf7Z",
      "execution_count": null,
      "outputs": [
        {
          "output_type": "stream",
          "name": "stdout",
          "text": [
            "Enter the Row Number: 4\n",
            "*  \n",
            "* *  \n",
            "* * *  \n",
            "* * * *  \n"
          ]
        }
      ]
    },
    {
      "cell_type": "code",
      "execution_count": null,
      "id": "83d8b483",
      "metadata": {
        "id": "83d8b483",
        "colab": {
          "base_uri": "https://localhost:8080/"
        },
        "outputId": "bba63372-ca73-4f1d-c5e2-ae350bd39af7"
      },
      "outputs": [
        {
          "output_type": "stream",
          "name": "stdout",
          "text": [
            "Enter the Row Number: 4\n",
            "* * * *  \n",
            "* * *  \n",
            "* *  \n",
            "*  \n"
          ]
        }
      ],
      "source": [
        "n = int(input(\"Enter the Row Number: \"))\n",
        "\n",
        "for i in range(n,0,-1):\n",
        "  for j in range(i):\n",
        "    print(\"*\",end=\" \")\n",
        "\n",
        "  print(\" \")"
      ]
    },
    {
      "cell_type": "markdown",
      "id": "ec723917",
      "metadata": {
        "id": "ec723917"
      },
      "source": [
        "# Good Luck!"
      ]
    }
  ],
  "metadata": {
    "kernelspec": {
      "display_name": "Python 3 (ipykernel)",
      "language": "python",
      "name": "python3"
    },
    "language_info": {
      "codemirror_mode": {
        "name": "ipython",
        "version": 3
      },
      "file_extension": ".py",
      "mimetype": "text/x-python",
      "name": "python",
      "nbconvert_exporter": "python",
      "pygments_lexer": "ipython3",
      "version": "3.9.13"
    },
    "colab": {
      "provenance": [],
      "include_colab_link": true
    }
  },
  "nbformat": 4,
  "nbformat_minor": 5
}